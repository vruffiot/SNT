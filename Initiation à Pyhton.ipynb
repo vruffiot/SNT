{
 "cells": [
  {
   "cell_type": "markdown",
   "metadata": {},
   "source": [
    "# Initiation à Python (SNT Lycée Aragon)\n",
    "***V. RUFFIOT***"
   ]
  },
  {
   "cell_type": "markdown",
   "metadata": {},
   "source": [
    "## Afficher une phrase à l'écran\n",
    "*print()* est le nom de la commande qui permet d'afficher quelque chose à l'écran\n",
    "pour afficher du texte, celui-ci doit être placer entre guillement \"**chaine de caractère**\"\n",
    "\n",
    "On peut également utiliser *print()* pour afficher le contenu d'une variable. \n",
    "\n",
    "Tester ci-dessous : changer la phrase et exécuter  (avec la combinaison de touche CTRL + Entrée)"
   ]
  },
  {
   "cell_type": "code",
   "execution_count": 4,
   "metadata": {},
   "outputs": [
    {
     "name": "stdout",
     "output_type": "stream",
     "text": [
      "Bonjour tout le monde !\n"
     ]
    }
   ],
   "source": [
    "print(\"Bonjour tout le monde !\")"
   ]
  },
  {
   "cell_type": "markdown",
   "metadata": {},
   "source": [
    "## Affectation d'une valeur à une variable\n",
    "\n",
    "On affecte une valeur à une variable avec le symbôle **=**. On peut ensuite affiche la valeur de la variable, comme dans l'exemeple ci-dessous (CTRL + Entrée pour tester)"
   ]
  },
  {
   "cell_type": "code",
   "execution_count": 8,
   "metadata": {},
   "outputs": [
    {
     "name": "stdout",
     "output_type": "stream",
     "text": [
      "Bonjour tout le monde !\n",
      "5\n"
     ]
    }
   ],
   "source": [
    "truc = \"Bonjour tout le monde !\"\n",
    "print(truc)\n",
    "\n",
    "truc = 5\n",
    "print(truc)"
   ]
  },
  {
   "cell_type": "markdown",
   "metadata": {},
   "source": [
    "## Les variables\n",
    "Nous allons dans un premier temps utiliser principalement deux types de variables, les nombres entiers (integer = int) et les chaines de caractères (string = str).\n",
    "Il en existe d'autres comme : les nombres décimaux (floating-point number = float); les booléens ; les listes…\n",
    "\n",
    "Dans python il existe une commande qui permet de connaître le type d'une variable\n",
    "Pour connaître le type d'une variable, il suffit d'utiliser la commande *type()*\n",
    "tester le code ci-dessous en essayant avec :\n",
    "```\n",
    "variable = 12\n",
    "variable = 1\n",
    "variable = \"1\"\n",
    "variable = 1e2\n",
    "variable = 1,2\n",
    "variable = \"Bonjour tout le monde !\"\n",
    "variable = True\n",
    "\n",
    "```\n"
   ]
  },
  {
   "cell_type": "code",
   "execution_count": 2,
   "metadata": {},
   "outputs": [
    {
     "data": {
      "text/plain": [
       "str"
      ]
     },
     "execution_count": 2,
     "metadata": {},
     "output_type": "execute_result"
    }
   ],
   "source": [
    "variable = \"1\"\n",
    "type(variable)"
   ]
  },
  {
   "cell_type": "markdown",
   "metadata": {},
   "source": [
    "## Opérations sur les variables\n",
    "### sur les nombres\n",
    "-  / pour la division (ex : 12/3)\n",
    "- * pour la multiplication (ex: 32 * 2)\n",
    "- ** pour les puissances (ex : 2\\**3)\n",
    "- // pour le quotient d'une division euclidienne (ex : 21 // 2)\n",
    "- % pour le reste d'une division euclidienne (ex : 21 % 2)\n"
   ]
  },
  {
   "cell_type": "code",
   "execution_count": 9,
   "metadata": {},
   "outputs": [
    {
     "name": "stdout",
     "output_type": "stream",
     "text": [
      "4.0\n",
      "96\n",
      "8\n",
      "10\n",
      "1\n"
     ]
    }
   ],
   "source": [
    "print(12 / 3)\n",
    "print(32 * 3)\n",
    "print(2**3)\n",
    "print(21 // 2)\n",
    "print(21 % 2)"
   ]
  },
  {
   "cell_type": "code",
   "execution_count": 15,
   "metadata": {},
   "outputs": [
    {
     "name": "stdout",
     "output_type": "stream",
     "text": [
      "15\n",
      "15\n",
      "6.5\n",
      "26\n",
      "169\n",
      "6\n",
      "1\n"
     ]
    }
   ],
   "source": [
    "a = 13\n",
    "b = 2\n",
    "print(a+b)\n",
    "c = a + b\n",
    "print (c)\n",
    "print(a / b)\n",
    "print(a * b)\n",
    "print(a ** b)\n",
    "print(a // b)\n",
    "print(a % b)"
   ]
  },
  {
   "cell_type": "code",
   "execution_count": 18,
   "metadata": {},
   "outputs": [
    {
     "name": "stdout",
     "output_type": "stream",
     "text": [
      "1\n",
      "1\n"
     ]
    }
   ],
   "source": [
    "a = 1\n",
    "b = 0\n",
    "c = a + b\n",
    "print(c)\n",
    "d = b + a\n",
    "print(c)"
   ]
  },
  {
   "cell_type": "markdown",
   "metadata": {},
   "source": [
    "### sur les chaines de caractères"
   ]
  },
  {
   "cell_type": "code",
   "execution_count": 14,
   "metadata": {},
   "outputs": [
    {
     "name": "stdout",
     "output_type": "stream",
     "text": [
      "Bonjour\n",
      " tout le monde !\n",
      "Bonjour tout le monde !\n",
      "Bonjour tout le monde !\n",
      "Bonjour Héricourt !\n",
      "Bonjour tout le monde !\n"
     ]
    }
   ],
   "source": [
    "a = \"Bonjour\"\n",
    "b = \" tout le monde !\"\n",
    "print(a)\n",
    "print(b)\n",
    "print(a+b)\n",
    "c = a + b\n",
    "print (c)\n",
    "b = \" Héricourt !\"\n",
    "print(a + b)\n",
    "print (c)"
   ]
  },
  {
   "cell_type": "code",
   "execution_count": 17,
   "metadata": {},
   "outputs": [
    {
     "name": "stdout",
     "output_type": "stream",
     "text": [
      "10\n",
      "01\n"
     ]
    }
   ],
   "source": [
    "a = \"1\"\n",
    "b = \"0\"\n",
    "c = a + b\n",
    "print(c)\n",
    "d = b + a\n",
    "print(d)"
   ]
  },
  {
   "cell_type": "markdown",
   "metadata": {},
   "source": [
    "## mélange des genres"
   ]
  },
  {
   "cell_type": "code",
   "execution_count": 16,
   "metadata": {},
   "outputs": [
    {
     "ename": "TypeError",
     "evalue": "unsupported operand type(s) for +: 'int' and 'str'",
     "output_type": "error",
     "traceback": [
      "\u001b[1;31m---------------------------------------------------------------------------\u001b[0m",
      "\u001b[1;31mTypeError\u001b[0m                                 Traceback (most recent call last)",
      "\u001b[1;32m<ipython-input-16-0eece6030668>\u001b[0m in \u001b[0;36m<module>\u001b[1;34m\u001b[0m\n\u001b[0;32m      1\u001b[0m \u001b[0ma\u001b[0m \u001b[1;33m=\u001b[0m \u001b[1;36m1\u001b[0m\u001b[1;33m\u001b[0m\u001b[1;33m\u001b[0m\u001b[0m\n\u001b[0;32m      2\u001b[0m \u001b[0mb\u001b[0m \u001b[1;33m=\u001b[0m \u001b[1;34m\"1\"\u001b[0m\u001b[1;33m\u001b[0m\u001b[1;33m\u001b[0m\u001b[0m\n\u001b[1;32m----> 3\u001b[1;33m \u001b[0mprint\u001b[0m \u001b[1;33m(\u001b[0m\u001b[0ma\u001b[0m \u001b[1;33m+\u001b[0m \u001b[0mb\u001b[0m\u001b[1;33m)\u001b[0m\u001b[1;33m\u001b[0m\u001b[1;33m\u001b[0m\u001b[0m\n\u001b[0m",
      "\u001b[1;31mTypeError\u001b[0m: unsupported operand type(s) for +: 'int' and 'str'"
     ]
    }
   ],
   "source": [
    "a = 1\n",
    "b = \"0\"\n",
    "print (a + b)"
   ]
  },
  {
   "cell_type": "code",
   "execution_count": 19,
   "metadata": {},
   "outputs": [
    {
     "name": "stdout",
     "output_type": "stream",
     "text": [
      "10\n",
      "1\n"
     ]
    }
   ],
   "source": [
    "a = 1\n",
    "b = \"0\"\n",
    "c = str(a)+ b\n",
    "print(c)\n",
    "d = a + int(b)\n",
    "print(d)"
   ]
  },
  {
   "cell_type": "markdown",
   "metadata": {},
   "source": [
    "## astuces"
   ]
  },
  {
   "cell_type": "code",
   "execution_count": 20,
   "metadata": {},
   "outputs": [
    {
     "name": "stdout",
     "output_type": "stream",
     "text": [
      "3\n",
      "1\n"
     ]
    }
   ],
   "source": [
    "a = 2\n",
    "b = 1\n",
    "\n",
    "a += b # on incrémente la valeur de a de b. on aurait pu écrire a = a + b\n",
    "print(a)\n",
    "a -= b\n",
    "print(b)"
   ]
  },
  {
   "cell_type": "code",
   "execution_count": 21,
   "metadata": {},
   "outputs": [
    {
     "name": "stdout",
     "output_type": "stream",
     "text": [
      "01001\n"
     ]
    }
   ],
   "source": [
    "a = \"0100\"\n",
    "b = \"1\"\n",
    "\n",
    "a += b\n",
    "print(a)"
   ]
  },
  {
   "cell_type": "markdown",
   "metadata": {},
   "source": [
    "## La boucle \"Tant que\" ou *while*\n",
    "\n",
    "C'est une boucle qui s'exécute tant qu'une condition est vraie.\n",
    "Une condition peut-être écrite avec :\n",
    "- < pour strictement inférieur\n",
    "- \\> pour strictement supérieur\n",
    "- == pour égal à\n",
    "- != pour différent de\n"
   ]
  },
  {
   "cell_type": "code",
   "execution_count": 23,
   "metadata": {},
   "outputs": [
    {
     "name": "stdout",
     "output_type": "stream",
     "text": [
      "2\n",
      "4\n",
      "6\n",
      "8\n",
      "10\n",
      "12\n",
      "14\n",
      "16\n",
      "18\n",
      "20\n",
      "La boucle est finie\n"
     ]
    }
   ],
   "source": [
    "a = 0\n",
    "b = 2\n",
    "\n",
    "while a < 20 : # attention à la syntax. Tant que a est inférieur à 20 on exécute les lignes ci-dessous\n",
    "    a += b      # le code qui sera exécuté dans la boucle doit être identé, c'est-à dire décaler un utilsant la touche TAB\n",
    "    print(a)    # fait encore partie du code exécuté dans la boucle\n",
    "\n",
    "print(\"La boucle est finie\") # cette ligne de code sera exécuté quand le boucle sera \"Tant que\" sera terminée."
   ]
  },
  {
   "cell_type": "code",
   "execution_count": 26,
   "metadata": {},
   "outputs": [
    {
     "name": "stdout",
     "output_type": "stream",
     "text": [
      "2\n",
      "4\n",
      "6\n",
      "8\n",
      "10\n",
      "12\n",
      "14\n",
      "16\n",
      "18\n",
      "20\n",
      "La boucle est finie\n"
     ]
    }
   ],
   "source": [
    "a = 0\n",
    "b = 2\n",
    "\n",
    "while a != 20 : \n",
    "    a += b\n",
    "    print(a)\n",
    "\n",
    "\n",
    "print(\"La boucle est finie\")\n"
   ]
  },
  {
   "cell_type": "code",
   "execution_count": 27,
   "metadata": {},
   "outputs": [
    {
     "name": "stdout",
     "output_type": "stream",
     "text": [
      "2\n",
      "La boucle est finie\n"
     ]
    }
   ],
   "source": [
    "a = 0\n",
    "b = 2\n",
    "\n",
    "while a == 0 : \n",
    "    a += b\n",
    "    print(a)\n",
    "\n",
    "print(\"La boucle est finie\")\n"
   ]
  },
  {
   "cell_type": "code",
   "execution_count": 28,
   "metadata": {},
   "outputs": [
    {
     "name": "stdout",
     "output_type": "stream",
     "text": [
      "33\n",
      "31\n",
      "29\n",
      "27\n",
      "25\n",
      "23\n",
      "21\n",
      "19\n",
      "La boucle est finie\n"
     ]
    }
   ],
   "source": [
    "a = 35\n",
    "b = 2\n",
    "\n",
    "while a > 20 : \n",
    "    a -= b\n",
    "    print(a)\n",
    "\n",
    "print(\"La boucle est finie\")"
   ]
  },
  {
   "cell_type": "markdown",
   "metadata": {},
   "source": [
    "## exemples d'utilisation d'un boucle *for*\n",
    "### faire varier un entier entre deux bornes\n",
    "pour une variable i variant de 0 à 20\n",
    "    écrire i\n",
    "\n"
   ]
  },
  {
   "cell_type": "code",
   "execution_count": 30,
   "metadata": {},
   "outputs": [
    {
     "name": "stdout",
     "output_type": "stream",
     "text": [
      "0\n",
      "1\n",
      "2\n",
      "3\n",
      "4\n",
      "5\n",
      "6\n",
      "7\n",
      "8\n",
      "9\n",
      "10\n",
      "11\n",
      "12\n",
      "13\n",
      "14\n",
      "15\n",
      "16\n",
      "17\n",
      "18\n",
      "19\n",
      "20\n"
     ]
    }
   ],
   "source": [
    "for i in range(0,21) : #fonctionne également avec range(21)\n",
    "    print (i)"
   ]
  },
  {
   "cell_type": "code",
   "execution_count": 45,
   "metadata": {},
   "outputs": [
    {
     "name": "stdout",
     "output_type": "stream",
     "text": [
      "0\n",
      "2\n",
      "4\n",
      "6\n",
      "8\n",
      "10\n",
      "12\n",
      "14\n",
      "16\n",
      "18\n",
      "20\n"
     ]
    }
   ],
   "source": [
    "for i in range(0,21,2) : # avec un pas de deux\n",
    "    print (i)"
   ]
  },
  {
   "cell_type": "code",
   "execution_count": 46,
   "metadata": {},
   "outputs": [
    {
     "name": "stdout",
     "output_type": "stream",
     "text": [
      "20\n",
      "19\n",
      "18\n",
      "17\n",
      "16\n",
      "15\n",
      "14\n",
      "13\n",
      "12\n",
      "11\n",
      "10\n",
      "9\n",
      "8\n",
      "7\n",
      "6\n",
      "5\n",
      "4\n",
      "3\n",
      "2\n",
      "1\n"
     ]
    }
   ],
   "source": [
    "for i in range(20,-1,-1) : # dans l'ordre décroissant\n",
    "    print (i)"
   ]
  },
  {
   "cell_type": "code",
   "execution_count": 47,
   "metadata": {},
   "outputs": [
    {
     "name": "stdout",
     "output_type": "stream",
     "text": [
      "20\n",
      "17\n",
      "14\n",
      "11\n",
      "8\n",
      "5\n",
      "2\n"
     ]
    }
   ],
   "source": [
    "for i in range(20,-1,-3) : # dans l'ordre décroissant avec un pas de trois\n",
    "    print (i)"
   ]
  },
  {
   "cell_type": "markdown",
   "metadata": {},
   "source": [
    "### Extraire les lettres d'une chaine de caractères\n",
    "#### première méthode"
   ]
  },
  {
   "cell_type": "code",
   "execution_count": 32,
   "metadata": {},
   "outputs": [
    {
     "name": "stdout",
     "output_type": "stream",
     "text": [
      "a\n",
      "b\n",
      "c\n",
      "d\n",
      "e\n",
      "f\n",
      "g\n",
      "h\n",
      "i\n",
      "j\n"
     ]
    }
   ],
   "source": [
    "chaine = \"abcdefghij\"\n",
    "for lettre in chaine :\n",
    "    print(lettre)"
   ]
  },
  {
   "cell_type": "markdown",
   "metadata": {},
   "source": [
    "#### deuxième méthode\n",
    "en utilisant l'instruction *len()* qui retourne la longueur de la chaine de caractère"
   ]
  },
  {
   "cell_type": "code",
   "execution_count": 34,
   "metadata": {},
   "outputs": [
    {
     "name": "stdout",
     "output_type": "stream",
     "text": [
      "a\n",
      "b\n",
      "c\n",
      "d\n",
      "e\n",
      "f\n",
      "g\n",
      "h\n",
      "i\n",
      "j\n"
     ]
    }
   ],
   "source": [
    "chaine = \"abcdefghij\"\n",
    "for i in range(0,len(chaine)): # fonctione également avec range(len(chaine))\n",
    "    print(chaine[i]) #on affiche le caractère d'index i dans la chaine (a est in l'index 0 et j à l'index 9)"
   ]
  },
  {
   "cell_type": "code",
   "execution_count": 35,
   "metadata": {},
   "outputs": [
    {
     "name": "stdout",
     "output_type": "stream",
     "text": [
      "0 a\n",
      "1 b\n",
      "2 c\n",
      "3 d\n",
      "4 e\n",
      "5 f\n",
      "6 g\n",
      "7 h\n",
      "8 i\n",
      "9 j\n"
     ]
    }
   ],
   "source": [
    "haine = \"abcdefghij\"\n",
    "for i in range(len(chaine)): \n",
    "    print(i, chaine[i])"
   ]
  },
  {
   "cell_type": "markdown",
   "metadata": {},
   "source": [
    "## Le slicing sur une chaine de caractères\n"
   ]
  },
  {
   "cell_type": "code",
   "execution_count": 37,
   "metadata": {},
   "outputs": [
    {
     "name": "stdout",
     "output_type": "stream",
     "text": [
      "abc\n"
     ]
    }
   ],
   "source": [
    "chaine = \"abcdefghi\"\n",
    "print(chaine[0:3]) # affiche les caractères de l'indice 0 jusqu'à l'indice 3"
   ]
  },
  {
   "cell_type": "code",
   "execution_count": 38,
   "metadata": {},
   "outputs": [
    {
     "name": "stdout",
     "output_type": "stream",
     "text": [
      "abcde\n"
     ]
    }
   ],
   "source": [
    "chaine = \"abcdefghi\"\n",
    "print(chaine[:5]) # affiche les caractères du début de la chaîne jusqu'à l'indice 3"
   ]
  },
  {
   "cell_type": "code",
   "execution_count": 39,
   "metadata": {},
   "outputs": [
    {
     "name": "stdout",
     "output_type": "stream",
     "text": [
      "cdefghi\n"
     ]
    }
   ],
   "source": [
    "chaine = \"abcdefghi\"\n",
    "print(chaine[2:])# affiche les caractères de l'indice 2 jusqu'au dernier"
   ]
  },
  {
   "cell_type": "code",
   "execution_count": 40,
   "metadata": {},
   "outputs": [
    {
     "name": "stdout",
     "output_type": "stream",
     "text": [
      "cde\n"
     ]
    }
   ],
   "source": [
    "chaine = \"abcdefghi\"\n",
    "print(chaine[2:5])# affiche les caractères de l'indice 2 jusqu'à l'indice 5"
   ]
  },
  {
   "cell_type": "code",
   "execution_count": 43,
   "metadata": {},
   "outputs": [
    {
     "name": "stdout",
     "output_type": "stream",
     "text": [
      "fed\n"
     ]
    }
   ],
   "source": [
    "chaine = \"abcdefghi\"\n",
    "print(chaine[5:2:-1]) # affiche les caractères de l'indice 5 jusqu'à l'indice 2 "
   ]
  },
  {
   "cell_type": "code",
   "execution_count": 44,
   "metadata": {},
   "outputs": [
    {
     "name": "stdout",
     "output_type": "stream",
     "text": [
      "ihgfedcba\n"
     ]
    }
   ],
   "source": [
    "chaine = \"abcdefghi\"\n",
    "print(chaine[::-1]) # affiche la chaîne de caractère à l'envers"
   ]
  },
  {
   "cell_type": "code",
   "execution_count": null,
   "metadata": {},
   "outputs": [],
   "source": []
  }
 ],
 "metadata": {
  "kernelspec": {
   "display_name": "Python 3",
   "language": "python",
   "name": "python3"
  },
  "language_info": {
   "codemirror_mode": {
    "name": "ipython",
    "version": 3
   },
   "file_extension": ".py",
   "mimetype": "text/x-python",
   "name": "python",
   "nbconvert_exporter": "python",
   "pygments_lexer": "ipython3",
   "version": "3.7.6"
  }
 },
 "nbformat": 4,
 "nbformat_minor": 4
}
