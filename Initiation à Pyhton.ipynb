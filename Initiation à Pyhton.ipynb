{
 "cells": [
  {
   "cell_type": "markdown",
   "metadata": {},
   "source": [
    "# Initiation à Python (SNT Lycée Aragon)\n",
    "***V. RUFFIOT***"
   ]
  },
  {
   "cell_type": "markdown",
   "metadata": {},
   "source": [
    "## Afficher une phrase à l'écran\n",
    "*print()* est le nom de la commande qui permet d'afficher quelque chose à l'écran\n",
    "pour afficher du texte, celui-ci doit être placer entre guillement \"**chaine de caractère**\"\n",
    "\n",
    "On peut également utiliser *print()* pour afficher le contenu d'une variable. \n",
    "\n",
    "Tester ci-dessous : changer la phrase et exécuter  (avec la combinaison de touche CTRL + Entrée)"
   ]
  },
  {
   "cell_type": "code",
   "execution_count": null,
   "metadata": {},
   "outputs": [],
   "source": [
    "print(\"Bonjour tout le monde !\")"
   ]
  },
  {
   "cell_type": "markdown",
   "metadata": {},
   "source": [
    "## Affectation d'une valeur à une variable\n",
    "\n",
    "On affecte une valeur à une variable avec le symbôle **=**. On peut ensuite affiche la valeur de la variable, comme dans l'exemeple ci-dessous (CTRL + Entrée pour tester)"
   ]
  },
  {
   "cell_type": "code",
   "execution_count": null,
   "metadata": {},
   "outputs": [],
   "source": [
    "truc = \"Bonjour tout le monde !\"\n",
    "print(truc)\n",
    "\n",
    "truc = 5\n",
    "print(truc)"
   ]
  },
  {
   "cell_type": "markdown",
   "metadata": {},
   "source": [
    "## Les variables\n",
    "Nous allons dans un premier temps utiliser principalement deux types de variables, les nombres entiers (integer = int) et les chaines de caractères (string = str).\n",
    "Il en existe d'autres comme : les nombres décimaux (floating-point number = float); les booléens ; les listes…\n",
    "\n",
    "Dans python il existe une commande qui permet de connaître le type d'une variable\n",
    "Pour connaître le type d'une variable, il suffit d'utiliser la commande *type()*\n",
    "tester le code ci-dessous en essayant avec :\n",
    "```\n",
    "variable = 12\n",
    "variable = 1\n",
    "variable = \"1\"\n",
    "variable = 1e2\n",
    "variable = 1,2\n",
    "variable = \"Bonjour tout le monde !\"\n",
    "variable = True\n",
    "\n",
    "```\n"
   ]
  },
  {
   "cell_type": "code",
   "execution_count": null,
   "metadata": {},
   "outputs": [],
   "source": [
    "variable = \"1\"\n",
    "type(variable)"
   ]
  },
  {
   "cell_type": "markdown",
   "metadata": {},
   "source": [
    "## Opérations sur les variables\n",
    "### sur les nombres\n",
    "-  / pour la division (ex : 12/3)\n",
    "- * pour la multiplication (ex: 32 * 2)\n",
    "- ** pour les puissances (ex : 2\\**3)\n",
    "- // pour le quotient d'une division euclidienne (ex : 21 // 2)\n",
    "- % pour le reste d'une division euclidienne (ex : 21 % 2)\n"
   ]
  },
  {
   "cell_type": "code",
   "execution_count": null,
   "metadata": {},
   "outputs": [],
   "source": [
    "print(12 / 3)\n",
    "print(32 * 3)\n",
    "print(2**3)\n",
    "print(21 // 2)\n",
    "print(21 % 2)"
   ]
  },
  {
   "cell_type": "code",
   "execution_count": null,
   "metadata": {},
   "outputs": [],
   "source": [
    "a = 13\n",
    "b = 2\n",
    "print(a+b)\n",
    "c = a + b\n",
    "print (c)\n",
    "print(a / b)\n",
    "print(a * b)\n",
    "print(a ** b)\n",
    "print(a // b)\n",
    "print(a % b)"
   ]
  },
  {
   "cell_type": "code",
   "execution_count": null,
   "metadata": {},
   "outputs": [],
   "source": [
    "a = 1\n",
    "b = 0\n",
    "c = a + b\n",
    "print(c)\n",
    "d = b + a\n",
    "print(c)"
   ]
  },
  {
   "cell_type": "markdown",
   "metadata": {},
   "source": [
    "### sur les chaines de caractères"
   ]
  },
  {
   "cell_type": "code",
   "execution_count": null,
   "metadata": {},
   "outputs": [],
   "source": [
    "a = \"Bonjour\"\n",
    "b = \" tout le monde !\"\n",
    "print(a)\n",
    "print(b)\n",
    "print(a+b)\n",
    "c = a + b\n",
    "print (c)\n",
    "b = \" Héricourt !\"\n",
    "print(a + b)\n",
    "print (c)"
   ]
  },
  {
   "cell_type": "code",
   "execution_count": null,
   "metadata": {},
   "outputs": [],
   "source": [
    "a = \"1\"\n",
    "b = \"0\"\n",
    "c = a + b\n",
    "print(c)\n",
    "d = b + a\n",
    "print(d)"
   ]
  },
  {
   "cell_type": "markdown",
   "metadata": {},
   "source": [
    "## mélange des genres"
   ]
  },
  {
   "cell_type": "code",
   "execution_count": null,
   "metadata": {},
   "outputs": [],
   "source": [
    "a = 1\n",
    "b = \"0\"\n",
    "print (a + b)"
   ]
  },
  {
   "cell_type": "code",
   "execution_count": null,
   "metadata": {},
   "outputs": [],
   "source": [
    "a = 1\n",
    "b = \"0\"\n",
    "c = str(a)+ b\n",
    "print(c)\n",
    "d = a + int(b)\n",
    "print(d)"
   ]
  },
  {
   "cell_type": "markdown",
   "metadata": {},
   "source": [
    "## astuces"
   ]
  },
  {
   "cell_type": "code",
   "execution_count": null,
   "metadata": {},
   "outputs": [],
   "source": [
    "a = 2\n",
    "b = 1\n",
    "\n",
    "a += b # on incrémente la valeur de a de b. on aurait pu écrire a = a + b\n",
    "print(a)\n",
    "a -= b\n",
    "print(b)"
   ]
  },
  {
   "cell_type": "code",
   "execution_count": null,
   "metadata": {},
   "outputs": [],
   "source": [
    "a = \"0100\"\n",
    "b = \"1\"\n",
    "\n",
    "a += b\n",
    "print(a)"
   ]
  },
  {
   "cell_type": "markdown",
   "metadata": {},
   "source": [
    "## La boucle \"Tant que\" ou *while*\n",
    "\n",
    "C'est une boucle qui s'exécute tant qu'une condition est vraie.\n",
    "Une condition peut-être écrite avec :\n",
    "- < pour strictement inférieur\n",
    "- \\> pour strictement supérieur\n",
    "- == pour égal à\n",
    "- != pour différent de\n"
   ]
  },
  {
   "cell_type": "code",
   "execution_count": null,
   "metadata": {},
   "outputs": [],
   "source": [
    "a = 0\n",
    "b = 2\n",
    "\n",
    "while a < 20 : # attention à la syntax. Tant que a est inférieur à 20 on exécute les lignes ci-dessous\n",
    "    a += b      # le code qui sera exécuté dans la boucle doit être identé, c'est-à dire décaler un utilsant la touche TAB\n",
    "    print(a)    # fait encore partie du code exécuté dans la boucle\n",
    "\n",
    "print(\"La boucle est finie\") # cette ligne de code sera exécuté quand le boucle sera \"Tant que\" sera terminée."
   ]
  },
  {
   "cell_type": "code",
   "execution_count": null,
   "metadata": {},
   "outputs": [],
   "source": [
    "a = 0\n",
    "b = 2\n",
    "\n",
    "while a != 20 : \n",
    "    a += b\n",
    "    print(a)\n",
    "\n",
    "\n",
    "print(\"La boucle est finie\")\n"
   ]
  },
  {
   "cell_type": "code",
   "execution_count": null,
   "metadata": {},
   "outputs": [],
   "source": [
    "a = 0\n",
    "b = 2\n",
    "\n",
    "while a == 0 : \n",
    "    a += b\n",
    "    print(a)\n",
    "\n",
    "print(\"La boucle est finie\")\n"
   ]
  },
  {
   "cell_type": "code",
   "execution_count": null,
   "metadata": {},
   "outputs": [],
   "source": [
    "a = 35\n",
    "b = 2\n",
    "\n",
    "while a > 20 : \n",
    "    a -= b\n",
    "    print(a)\n",
    "\n",
    "print(\"La boucle est finie\")"
   ]
  },
  {
   "cell_type": "markdown",
   "metadata": {},
   "source": [
    "## exemples d'utilisation d'un boucle *for*\n",
    "### faire varier un entier entre deux bornes\n",
    "pour une variable i variant de 0 à 20\n",
    "    écrire i\n",
    "\n"
   ]
  },
  {
   "cell_type": "code",
   "execution_count": null,
   "metadata": {},
   "outputs": [],
   "source": [
    "for i in range(0,21) : #fonctionne également avec range(21)\n",
    "    print (i)"
   ]
  },
  {
   "cell_type": "code",
   "execution_count": null,
   "metadata": {},
   "outputs": [],
   "source": [
    "for i in range(0,21,2) : # avec un pas de deux\n",
    "    print (i)"
   ]
  },
  {
   "cell_type": "code",
   "execution_count": null,
   "metadata": {},
   "outputs": [],
   "source": [
    "for i in range(20,-1,-1) : # dans l'ordre décroissant\n",
    "    print (i)"
   ]
  },
  {
   "cell_type": "code",
   "execution_count": null,
   "metadata": {},
   "outputs": [],
   "source": [
    "for i in range(20,-1,-3) : # dans l'ordre décroissant avec un pas de trois\n",
    "    print (i)"
   ]
  },
  {
   "cell_type": "markdown",
   "metadata": {},
   "source": [
    "### Extraire les lettres d'une chaine de caractères\n",
    "#### première méthode"
   ]
  },
  {
   "cell_type": "code",
   "execution_count": null,
   "metadata": {},
   "outputs": [],
   "source": [
    "chaine = \"abcdefghij\"\n",
    "for lettre in chaine :\n",
    "    print(lettre)"
   ]
  },
  {
   "cell_type": "markdown",
   "metadata": {},
   "source": [
    "#### deuxième méthode\n",
    "en utilisant l'instruction *len()* qui retourne la longueur de la chaine de caractère"
   ]
  },
  {
   "cell_type": "code",
   "execution_count": null,
   "metadata": {},
   "outputs": [],
   "source": [
    "chaine = \"abcdefghij\"\n",
    "for i in range(0,len(chaine)): # fonctione également avec range(len(chaine))\n",
    "    print(chaine[i]) #on affiche le caractère d'index i dans la chaine (a est in l'index 0 et j à l'index 9)"
   ]
  },
  {
   "cell_type": "code",
   "execution_count": null,
   "metadata": {},
   "outputs": [],
   "source": [
    "haine = \"abcdefghij\"\n",
    "for i in range(len(chaine)): \n",
    "    print(i, chaine[i])"
   ]
  },
  {
   "cell_type": "markdown",
   "metadata": {},
   "source": [
    "## Le slicing sur une chaine de caractères\n"
   ]
  },
  {
   "cell_type": "code",
   "execution_count": null,
   "metadata": {},
   "outputs": [],
   "source": [
    "chaine = \"abcdefghi\"\n",
    "print(chaine[0:3]) # affiche les caractères de l'indice 0 jusqu'à l'indice 3"
   ]
  },
  {
   "cell_type": "code",
   "execution_count": null,
   "metadata": {},
   "outputs": [],
   "source": [
    "chaine = \"abcdefghi\"\n",
    "print(chaine[:5]) # affiche les caractères du début de la chaîne jusqu'à l'indice 3"
   ]
  },
  {
   "cell_type": "code",
   "execution_count": null,
   "metadata": {},
   "outputs": [],
   "source": [
    "chaine = \"abcdefghi\"\n",
    "print(chaine[2:])# affiche les caractères de l'indice 2 jusqu'au dernier"
   ]
  },
  {
   "cell_type": "code",
   "execution_count": null,
   "metadata": {},
   "outputs": [],
   "source": [
    "chaine = \"abcdefghi\"\n",
    "print(chaine[2:5])# affiche les caractères de l'indice 2 jusqu'à l'indice 5"
   ]
  },
  {
   "cell_type": "code",
   "execution_count": null,
   "metadata": {},
   "outputs": [],
   "source": [
    "chaine = \"abcdefghi\"\n",
    "print(chaine[5:2:-1]) # affiche les caractères de l'indice 5 jusqu'à l'indice 2 "
   ]
  },
  {
   "cell_type": "code",
   "execution_count": null,
   "metadata": {},
   "outputs": [],
   "source": [
    "chaine = \"abcdefghi\"\n",
    "print(chaine[::-1]) # affiche la chaîne de caractère à l'envers"
   ]
  },
  {
   "cell_type": "code",
   "execution_count": null,
   "metadata": {},
   "outputs": [],
   "source": []
  }
 ],
 "metadata": {
  "kernelspec": {
   "display_name": "Python 3",
   "language": "python",
   "name": "python3"
  },
  "language_info": {
   "codemirror_mode": {
    "name": "ipython",
    "version": 3
   },
   "file_extension": ".py",
   "mimetype": "text/x-python",
   "name": "python",
   "nbconvert_exporter": "python",
   "pygments_lexer": "ipython3",
   "version": "3.7.6"
  }
 },
 "nbformat": 4,
 "nbformat_minor": 4
}
