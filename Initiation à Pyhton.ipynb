{
 "cells": [
  {
   "cell_type": "markdown",
   "metadata": {},
   "source": [
    "# Initiation à Python (SNT Lycée Aragon)\n",
    "***V. RUFFIOT***"
   ]
  },
  {
   "cell_type": "markdown",
   "metadata": {},
   "source": [
    "## Afficher une phrase à l'écran\n",
    "*print()* est le nom de la commande qui permet d'afficher quelque chose à l'écran\n",
    "pour afficher du texte, celui-ci doit être placer entre guillement \"Hello world\"\n",
    "\n",
    "Tester ci dessus : changer la phrase et exécuter  (avec la combinaison de touche CTRL + Entrée)"
   ]
  },
  {
   "cell_type": "code",
   "execution_count": 5,
   "metadata": {},
   "outputs": [
    {
     "name": "stdout",
     "output_type": "stream",
     "text": [
      "Bonjour tout le monde !\n"
     ]
    }
   ],
   "source": [
    "print(\"Bonjour tout le monde !\")"
   ]
  },
  {
   "cell_type": "markdown",
   "metadata": {},
   "source": [
    "## Les variables\n",
    "Nous allons dans un premier temps utiliser principalemene deux types de variables, les entiers (integer = int) et les chaines de caractères.\n",
    "Pour connaître le type d'une variable, il suffit d'utiliser la commande *type()*\n",
    "tester le code cidessous en essayant avec\n",
    "```\n",
    "variable = 12\n",
    "variable = 1\n",
    "variable = \"1\"\n",
    "variable = 00011\n",
    "variable = \"00011\"\n",
    "\n",
    "```\n"
   ]
  },
  {
   "cell_type": "code",
   "execution_count": 13,
   "metadata": {},
   "outputs": [
    {
     "data": {
      "text/plain": [
       "str"
      ]
     },
     "execution_count": 13,
     "metadata": {},
     "output_type": "execute_result"
    }
   ],
   "source": [
    "variable = \"1\"\n",
    "type(variable)"
   ]
  }
 ],
 "metadata": {
  "kernelspec": {
   "display_name": "Python 3",
   "language": "python",
   "name": "python3"
  },
  "language_info": {
   "codemirror_mode": {
    "name": "ipython",
    "version": 3
   },
   "file_extension": ".py",
   "mimetype": "text/x-python",
   "name": "python",
   "nbconvert_exporter": "python",
   "pygments_lexer": "ipython3",
   "version": "3.7.6"
  }
 },
 "nbformat": 4,
 "nbformat_minor": 4
}
